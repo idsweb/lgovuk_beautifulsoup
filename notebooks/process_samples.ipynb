{
 "cells": [
  {
   "cell_type": "markdown",
   "metadata": {},
   "source": [
    "# Process all the sample files"
   ]
  },
  {
   "cell_type": "markdown",
   "metadata": {},
   "source": [
    "## Find the page content."
   ]
  },
  {
   "cell_type": "markdown",
   "metadata": {},
   "source": [
    "## Import modules"
   ]
  },
  {
   "cell_type": "code",
   "execution_count": 1,
   "metadata": {},
   "outputs": [],
   "source": [
    "#!pip install beautifulsoup4\n",
    "\n",
    "# Install the parsersc\n",
    "#!pip install html5lib\n",
    "#!pip install lxml\n",
    "\n",
    "from bs4 import BeautifulSoup\n",
    "from bs4 import Comment, Tag, NavigableString"
   ]
  },
  {
   "cell_type": "code",
   "execution_count": 2,
   "metadata": {},
   "outputs": [],
   "source": [
    "# import required modules for processing files\n",
    "import os\n",
    "from os import path"
   ]
  },
  {
   "cell_type": "markdown",
   "metadata": {},
   "source": [
    "## Process the contents of the HTML"
   ]
  },
  {
   "cell_type": "markdown",
   "metadata": {},
   "source": [
    "### Turn a file into a bs4 object"
   ]
  },
  {
   "cell_type": "code",
   "execution_count": 3,
   "metadata": {},
   "outputs": [],
   "source": [
    "def process_markup(filemane: str) :\n",
    "    with open(filemane) as fp:\n",
    "        noise_soup = BeautifulSoup(fp, 'html.parser')\n",
    "        return noise_soup"
   ]
  },
  {
   "cell_type": "markdown",
   "metadata": {},
   "source": [
    "## Utility functions"
   ]
  },
  {
   "cell_type": "markdown",
   "metadata": {},
   "source": [
    "### Update an attribute"
   ]
  },
  {
   "cell_type": "code",
   "execution_count": 4,
   "metadata": {},
   "outputs": [],
   "source": [
    "def update_id(content: Tag, attribute: str, new_value: str):\n",
    "    id_attr = {}\n",
    "    id_attr[attribute] = new_value\n",
    "    content.attrs[attribute] = id_attr[attribute]"
   ]
  },
  {
   "cell_type": "markdown",
   "metadata": {},
   "source": [
    "### Keep only whitelisted CSS on elements"
   ]
  },
  {
   "cell_type": "markdown",
   "metadata": {},
   "source": [
    "This will be expanded to take in a JSON file or similar"
   ]
  },
  {
   "cell_type": "code",
   "execution_count": 5,
   "metadata": {},
   "outputs": [],
   "source": [
    "def whitelist_css(content: Tag, whitelist: dict) :\n",
    "    for dirty_tag in content.select('[class]') :\n",
    "        clean_tags = []\n",
    "        for class_name in dirty_tag.attrs['class'] :\n",
    "            if( dirty_tag.name in whitelist):\n",
    "                if(class_name in whitelist[dirty_tag.name]) :\n",
    "                    clean_tags.append(class_name)\n",
    "        if(len(clean_tags) > 0) :\n",
    "            dirty_tag.attrs['class'] = clean_tags\n",
    "        else :\n",
    "            del(dirty_tag.attrs['class'])\n",
    "    return content"
   ]
  },
  {
   "cell_type": "markdown",
   "metadata": {},
   "source": [
    "### Transform the accordian markup\n",
    "Flatten the old accordian markup"
   ]
  },
  {
   "cell_type": "code",
   "execution_count": 6,
   "metadata": {},
   "outputs": [],
   "source": [
    "def transform_accordian(old_accordian: Tag) :\n",
    "    new_comment = Comment('Reformatted accordian')\n",
    "    old_accordian.insert(1,new_comment)\n",
    "\n",
    "    # Some accordians may have a button\n",
    "    button = old_accordian.find('button', class_=\"accordion__trigger\") #ToDo\n",
    "\n",
    "    # remove the class attributes or replace them\n",
    "    for h in old_accordian.find_all('h3') :\n",
    "        class_list = ['some_new_class']\n",
    "        class_attr = {}\n",
    "        class_attr['class'] = class_list\n",
    "        h.attrs = class_attr\n",
    "        #del(h.attrs['class'])\n",
    "    for div in old_accordian.find_all('div') :\n",
    "        div.unwrap()"
   ]
  },
  {
   "cell_type": "markdown",
   "metadata": {},
   "source": [
    "### Define a function to find the page content from the soup\n",
    "\n",
    "This function takes a BeautifulSoup object and will find the page content based on its id attribute. For some reason this seems to need to be a two step process."
   ]
  },
  {
   "cell_type": "code",
   "execution_count": 7,
   "metadata": {},
   "outputs": [],
   "source": [
    "def find_page_content(soup: BeautifulSoup) :\n",
    "\n",
    "    # Check if their is a H1 - if so grab the first one and then find the content div.\n",
    "    if type(soup.h1) == Tag :\n",
    "        outer = soup.h1.parent\n",
    "        content = outer.find('div', { 'id' : 'ctl00_PlaceHolderMain_ctl03__ControlWrapper_RichHtmlField'})\n",
    "        update_id(content, 'id', 'new_id')\n",
    "    else :\n",
    "        content = \"Missing\"\n",
    "    return content"
   ]
  },
  {
   "cell_type": "markdown",
   "metadata": {},
   "source": [
    "## Loop through the directory and process the samples"
   ]
  },
  {
   "cell_type": "markdown",
   "metadata": {},
   "source": [
    "### Master function to call smaller functions"
   ]
  },
  {
   "cell_type": "markdown",
   "metadata": {},
   "source": [
    "Whitelist of CSS"
   ]
  },
  {
   "cell_type": "code",
   "execution_count": 8,
   "metadata": {},
   "outputs": [],
   "source": [
    "classes_to_keep = {}\n",
    "classes_to_keep['div'] = ['text-block','text']\n",
    "classes_to_keep['ol'] = ['list', 'list-step']"
   ]
  },
  {
   "cell_type": "code",
   "execution_count": 9,
   "metadata": {},
   "outputs": [],
   "source": [
    "def get_new_html(filename: str) :\n",
    "    soup = process_markup(filename)\n",
    "    result = find_page_content(soup)\n",
    "\n",
    "    accordians = result.find_all('div', class_ = 'accordion')\n",
    "    if(len(accordians) > 0) :\n",
    "        for acc in accordians :\n",
    "            transform_accordian(acc)\n",
    "    result = whitelist_css(result, classes_to_keep)\n",
    "    return result"
   ]
  },
  {
   "cell_type": "markdown",
   "metadata": {},
   "source": [
    "## Process the sample(s)\n",
    "\n",
    "Process the sample files and save a copy in the cleaned_pages folder"
   ]
  },
  {
   "cell_type": "code",
   "execution_count": 10,
   "metadata": {},
   "outputs": [],
   "source": [
    "# snippet for generating sample pages\n",
    "\n",
    "new_file = '''\n",
    "<!DOCTYPE html>\n",
    "<html lang=\"en\">\n",
    "<head>\n",
    "    <meta charset=\"UTF-8\">\n",
    "    <meta name=\"viewport\" content=\"width=device-width, initial-scale=1.0\">\n",
    "    <title>Document</title>\n",
    "</head>\n",
    "<body>\n",
    "    \n",
    "</body>\n",
    "</html>\n",
    "'''"
   ]
  },
  {
   "cell_type": "code",
   "execution_count": 11,
   "metadata": {},
   "outputs": [],
   "source": [
    "from os import path\n",
    "# directory = path.join('..','sourcefiles','test')\n",
    "directory = path.join('..','sourcefiles','test')\n",
    "cleaned_directory = path.join('..', 'cleaned_pages','test')\n",
    " \n",
    "# iterate over files in\n",
    "# that directory\n",
    "for filename in os.listdir(directory):\n",
    "    f = os.path.join(directory, filename)\n",
    "    cleaned_f = os.path.join(cleaned_directory, filename)\n",
    "    # checking if it is a file\n",
    "    if os.path.isfile(f):\n",
    "        clean_page = get_new_html(f)\n",
    "        new_soup = BeautifulSoup(new_file, 'html.parser')\n",
    "        new_soup.body.insert(1, clean_page)\n",
    "        with open(cleaned_f, \"w\", encoding='utf-8') as file:\n",
    "            file.write(new_soup.prettify())"
   ]
  },
  {
   "cell_type": "code",
   "execution_count": null,
   "metadata": {},
   "outputs": [],
   "source": [
    "\n"
   ]
  }
 ],
 "metadata": {
  "kernelspec": {
   "display_name": "Python 3",
   "language": "python",
   "name": "python3"
  },
  "language_info": {
   "codemirror_mode": {
    "name": "ipython",
    "version": 3
   },
   "file_extension": ".py",
   "mimetype": "text/x-python",
   "name": "python",
   "nbconvert_exporter": "python",
   "pygments_lexer": "ipython3",
   "version": "3.11.5"
  },
  "orig_nbformat": 4
 },
 "nbformat": 4,
 "nbformat_minor": 2
}
