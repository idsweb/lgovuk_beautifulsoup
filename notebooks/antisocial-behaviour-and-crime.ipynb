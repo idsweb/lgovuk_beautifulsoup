{
  "cells": [
    {
      "cell_type": "markdown",
      "source": [
        "# Web scraping a section of www.leeds.gov.uk with Beautiful Soup\n",
        "\n",
        "This notebook uses [The Beautiful Soup Library](https://www.crummy.com/software/BeautifulSoup/bs4/doc/) which is a popular scraping library that also works well with [LangChain](https://www.langchain.com/).\n",
        "\n",
        "Due to the limitations on bots and scraping the HTML content used for the excercise is saved into a varaible in the __variables set up section__."
      ],
      "metadata": {
        "id": "msnDHyAOE8oS"
      }
    },
    {
      "cell_type": "markdown",
      "source": [
        "## Install the packages\n",
        "For more information see the docs [BeautifulSoup](BeautifulSoup).\n",
        "\n"
      ],
      "metadata": {
        "id": "kg-wJ-J_FXwZ"
      }
    },
    {
      "cell_type": "code",
      "execution_count": null,
      "metadata": {
        "id": "RW14NV5fE7ft"
      },
      "outputs": [],
      "source": [
        "!pip install beautifulsoup4\n",
        "\n",
        "# Install the parsers\n",
        "!pip install html5lib\n",
        "!pip install lxml"
      ]
    }
  ],
  "metadata": {
    "kernelspec": {
      "display_name": "Python 3",
      "language": "python",
      "name": "python3"
    },
    "language_info": {
      "name": "python",
      "version": "3.11.5"
    },
    "orig_nbformat": 4,
    "colab": {
      "provenance": []
    }
  },
  "nbformat": 4,
  "nbformat_minor": 0
}