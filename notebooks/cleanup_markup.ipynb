{
 "cells": [
  {
   "cell_type": "markdown",
   "metadata": {},
   "source": [
    "# Sample techniques to clean up mark up\n",
    "\n",
    "This notebook highlights a few Beatiful Soup 4 techniques you can use to clean up mark up."
   ]
  },
  {
   "cell_type": "markdown",
   "metadata": {},
   "source": [
    "## Install packages and set up the soup object"
   ]
  },
  {
   "cell_type": "code",
   "execution_count": 97,
   "metadata": {},
   "outputs": [],
   "source": [
    "#!pip install beautifulsoup4\n",
    "\n",
    "# Install the parsersc\n",
    "#!pip install html5lib\n",
    "#!pip install lxml"
   ]
  },
  {
   "cell_type": "markdown",
   "metadata": {},
   "source": [
    "1. Import the module"
   ]
  },
  {
   "cell_type": "code",
   "execution_count": 109,
   "metadata": {},
   "outputs": [],
   "source": [
    "from bs4 import BeautifulSoup"
   ]
  },
  {
   "cell_type": "markdown",
   "metadata": {},
   "source": [
    "2. Load a sample file into the soup object from a sample HTML document"
   ]
  },
  {
   "cell_type": "code",
   "execution_count": 110,
   "metadata": {},
   "outputs": [],
   "source": [
    "with open(\"..\\sourcefiles\\making-a-noise-complaint.html\") as fp:\n",
    "    noise_soup = BeautifulSoup(fp, 'html.parser')"
   ]
  },
  {
   "cell_type": "markdown",
   "metadata": {},
   "source": [
    "## Find the content"
   ]
  },
  {
   "cell_type": "markdown",
   "metadata": {},
   "source": [
    "1. Find the main block of content based on its control id attribute"
   ]
  },
  {
   "cell_type": "code",
   "execution_count": 100,
   "metadata": {},
   "outputs": [],
   "source": [
    "content = noise_soup.find('div', { 'id':'ctl00_PlaceHolderMain_ctl03__ControlWrapper_RichHtmlField'})\n",
    "content.attrs['id'] = 'sample_page'"
   ]
  },
  {
   "cell_type": "markdown",
   "metadata": {},
   "source": [
    "2. Define a class to hold attributes we want to check for (can be added to a dictionary later)"
   ]
  },
  {
   "cell_type": "code",
   "execution_count": 101,
   "metadata": {},
   "outputs": [],
   "source": [
    "class Lcc_markup:\n",
    "  def __init__(self, tag: str, attr: str, val: str):\n",
    "    self.tag = tag\n",
    "    self.attr = attr\n",
    "    self.val = val\n",
    "\n",
    "# div class=\"lcc-tree-container lcc-noise-nuisance\"\n",
    "jp = Lcc_markup('div', 'class', 'lcc-tree-container')"
   ]
  },
  {
   "cell_type": "markdown",
   "metadata": {},
   "source": [
    "## Swap out unwanted controls"
   ]
  },
  {
   "cell_type": "markdown",
   "metadata": {},
   "source": [
    "3. Replace the mark up we dont want with a placeholder. Use the instance of the class as a convenience (could be put in a loop later)."
   ]
  },
  {
   "cell_type": "code",
   "execution_count": 102,
   "metadata": {},
   "outputs": [],
   "source": [
    "journey_page_tag = content.find(jp.tag, { jp.attr : jp.val})"
   ]
  },
  {
   "cell_type": "markdown",
   "metadata": {},
   "source": [
    "4. Use the BeautifulSoup `string` property to replace the content."
   ]
  },
  {
   "cell_type": "code",
   "execution_count": 103,
   "metadata": {},
   "outputs": [],
   "source": [
    "journey_page_tag.string = '<div class=\"replace_me\">THIS PAGE CONTAINS A JOURNEY PAGE AND NEEDS UPDATING'"
   ]
  },
  {
   "cell_type": "markdown",
   "metadata": {},
   "source": [
    "## Remove unnecessary HTML tags like <div class='col..'"
   ]
  },
  {
   "cell_type": "markdown",
   "metadata": {},
   "source": [
    "5. For now simply store the attributes in a dictionary but this could be a class etc. BS4 will take a `lambda` to match attributes so we can pass that in to `find_all`"
   ]
  },
  {
   "cell_type": "code",
   "execution_count": 111,
   "metadata": {},
   "outputs": [],
   "source": [
    "strip = {\n",
    "  'tag' : 'div',\n",
    "  'matchfunc' : lambda L: L and L.startswith('ctl'),\n",
    "  'attr' : 'id'\n",
    "}\n",
    "\n",
    "# You can use Lambdas in the match\n",
    "result = content.findAll(strip['tag'], { strip['attr'] : strip['matchfunc'] })\n",
    "\n"
   ]
  },
  {
   "cell_type": "markdown",
   "metadata": {},
   "source": [
    "## Save the result to a new file"
   ]
  },
  {
   "cell_type": "code",
   "execution_count": 105,
   "metadata": {},
   "outputs": [],
   "source": [
    "new_file = '''\n",
    "<!DOCTYPE html>\n",
    "<html lang=\"en\">\n",
    "<head>\n",
    "    <meta charset=\"UTF-8\">\n",
    "    <meta name=\"viewport\" content=\"width=device-width, initial-scale=1.0\">\n",
    "    <title>Document</title>\n",
    "</head>\n",
    "<body>\n",
    "    \n",
    "</body>\n",
    "</html>\n",
    "'''\n",
    "new_soup = BeautifulSoup(new_file, 'html.parser')\n",
    "new_soup.body.insert(1, content)\n",
    "with open(\"..\\cleaned_pages\\making-a-noise-complaint.html\", \"w\", encoding='utf-8') as file:\n",
    "    file.write(new_soup.prettify())"
   ]
  },
  {
   "cell_type": "markdown",
   "metadata": {},
   "source": [
    "### Check for double div tags (work in progress)"
   ]
  },
  {
   "cell_type": "code",
   "execution_count": null,
   "metadata": {},
   "outputs": [],
   "source": [
    "from bs4 import NavigableString\n",
    "\n",
    "for d in content.find_all('div') :\n",
    "    if(len(d.contents) == 1 and type(d.contents[0]) == NavigableString and not d.contents[0] == '\\n') :\n",
    "        # print('empty', d.contents[0])"
   ]
  }
 ],
 "metadata": {
  "kernelspec": {
   "display_name": "Python 3",
   "language": "python",
   "name": "python3"
  },
  "language_info": {
   "codemirror_mode": {
    "name": "ipython",
    "version": 3
   },
   "file_extension": ".py",
   "mimetype": "text/x-python",
   "name": "python",
   "nbconvert_exporter": "python",
   "pygments_lexer": "ipython3",
   "version": "3.11.5"
  },
  "orig_nbformat": 4
 },
 "nbformat": 4,
 "nbformat_minor": 2
}
