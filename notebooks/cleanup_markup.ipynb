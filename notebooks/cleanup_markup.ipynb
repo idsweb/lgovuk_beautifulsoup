{
 "cells": [
  {
   "cell_type": "markdown",
   "metadata": {},
   "source": [
    "# Sample techniques to clean up mark up\n",
    "\n",
    "This notebook highlights a few Beatiful Soup 4 techniques you can use to clean up mark up."
   ]
  },
  {
   "cell_type": "markdown",
   "metadata": {},
   "source": [
    "## Set up the sample html string"
   ]
  },
  {
   "cell_type": "code",
   "execution_count": null,
   "metadata": {},
   "outputs": [],
   "source": [
    "soup_html = '''\n",
    "<!DOCTYPE html>\n",
    "<html lang=\"en\">\n",
    "<head>\n",
    "    <meta charset=\"UTF-8\">\n",
    "    <meta name=\"viewport\" content=\"width=device-width, initial-scale=1.0\">\n",
    "    <title>Document</title>\n",
    "</head>\n",
    "<body>\n",
    "    <h1>This is the title</h1>\n",
    "    <h2>This is a sub title</h2>\n",
    "    <div class=\"outer\" id=\"1\">\n",
    "        <div id=\"1.1\">   \n",
    "            <div id=\"1.1.1\">\n",
    "                <h2>Title for H2</h2>\n",
    "                <span>some text in a span</span>\n",
    "            </div>\n",
    "            <div id=\"1.2\">   plain text in a div</div>\n",
    "            <div id=\"1.3\">   <div id=\"1.3.1\">text in a nested div</div></div>\n",
    "        </div>\n",
    "    </div>\n",
    "    <footer>\n",
    "        some footer\n",
    "    </footer>\n",
    "</body>\n",
    "</html>\n",
    "'''"
   ]
  },
  {
   "cell_type": "markdown",
   "metadata": {},
   "source": [
    "## Install packages and set up the soup object"
   ]
  },
  {
   "cell_type": "code",
   "execution_count": null,
   "metadata": {},
   "outputs": [],
   "source": [
    "#!pip install beautifulsoup4\n",
    "\n",
    "# Install the parsers\n",
    "#!pip install html5lib\n",
    "#!pip install lxml"
   ]
  },
  {
   "cell_type": "markdown",
   "metadata": {},
   "source": [
    "### Set up the soup object"
   ]
  },
  {
   "cell_type": "code",
   "execution_count": null,
   "metadata": {},
   "outputs": [],
   "source": [
    "from bs4 import BeautifulSoup\n",
    "soup = BeautifulSoup(soup_html, 'html.parser')"
   ]
  }
 ],
 "metadata": {
  "language_info": {
   "name": "python"
  },
  "orig_nbformat": 4
 },
 "nbformat": 4,
 "nbformat_minor": 2
}
