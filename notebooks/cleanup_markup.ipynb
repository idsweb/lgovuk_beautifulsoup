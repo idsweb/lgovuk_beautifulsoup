{
 "cells": [
  {
   "cell_type": "markdown",
   "metadata": {},
   "source": [
    "# Sample techniques to clean up mark up\n",
    "\n",
    "This notebook highlights a few Beatiful Soup 4 techniques you can use to clean up mark up."
   ]
  },
  {
   "cell_type": "markdown",
   "metadata": {},
   "source": [
    "## Install packages and set up the soup object"
   ]
  },
  {
   "cell_type": "code",
   "execution_count": 2,
   "metadata": {},
   "outputs": [],
   "source": [
    "#!pip install beautifulsoup4\n",
    "\n",
    "# Install the parsers\n",
    "#!pip install html5lib\n",
    "#!pip install lxml"
   ]
  },
  {
   "cell_type": "markdown",
   "metadata": {},
   "source": [
    "### Set up the soup object"
   ]
  },
  {
   "cell_type": "code",
   "execution_count": 69,
   "metadata": {},
   "outputs": [],
   "source": [
    "from bs4 import BeautifulSoup"
   ]
  },
  {
   "cell_type": "code",
   "execution_count": 82,
   "metadata": {},
   "outputs": [],
   "source": [
    "with open(\"..\\sourcefiles\\making-a-noise-complaint.html\") as fp:\n",
    "    noise_soup = BeautifulSoup(fp, 'html.parser')"
   ]
  },
  {
   "cell_type": "markdown",
   "metadata": {},
   "source": [
    "## Check for custom markup"
   ]
  },
  {
   "cell_type": "markdown",
   "metadata": {},
   "source": [
    "### Find the main block of content "
   ]
  },
  {
   "cell_type": "code",
   "execution_count": null,
   "metadata": {},
   "outputs": [],
   "source": [
    "content = noise_soup.find('div', { 'id':'ctl00_PlaceHolderMain_ctl03__ControlWrapper_RichHtmlField'})\n",
    "print(content.prettify())"
   ]
  },
  {
   "cell_type": "markdown",
   "metadata": {},
   "source": [
    "### Define a class to hold attributes we want to check for"
   ]
  },
  {
   "cell_type": "code",
   "execution_count": 99,
   "metadata": {},
   "outputs": [],
   "source": [
    "class Lcc_markup:\n",
    "  def __init__(self, tag: str, attr: str, val: str):\n",
    "    self.tag = tag\n",
    "    self.attr = attr\n",
    "    self.val = val\n",
    "\n",
    "# div class=\"lcc-tree-container lcc-noise-nuisance\"\n",
    "jp = Lcc_markup('div', 'class', 'lcc-tree-container lcc-noise-nuisance')"
   ]
  },
  {
   "cell_type": "markdown",
   "metadata": {},
   "source": [
    "### Check for wrapper divs."
   ]
  },
  {
   "cell_type": "code",
   "execution_count": null,
   "metadata": {},
   "outputs": [],
   "source": [
    "journey_page_tag = content.find(jp.tag, { jp.attr : jp.val})\n",
    "journey_page_tag.string = '<div class=\"replace_me\">THIS PAGE CONTAINS A JOURNEY PAGE AND NEEDS UPDATING'"
   ]
  },
  {
   "cell_type": "markdown",
   "metadata": {},
   "source": [
    "### Check for double div tags"
   ]
  },
  {
   "cell_type": "code",
   "execution_count": 95,
   "metadata": {},
   "outputs": [],
   "source": [
    "from bs4 import NavigableString\n",
    "\n",
    "for d in content.find_all('div') :\n",
    "    if(len(d.contents) == 1 and type(d.contents[0]) == NavigableString and not d.contents[0] == '\\n') :\n",
    "        print('empty', d.contents[0])"
   ]
  }
 ],
 "metadata": {
  "kernelspec": {
   "display_name": "Python 3",
   "language": "python",
   "name": "python3"
  },
  "language_info": {
   "codemirror_mode": {
    "name": "ipython",
    "version": 3
   },
   "file_extension": ".py",
   "mimetype": "text/x-python",
   "name": "python",
   "nbconvert_exporter": "python",
   "pygments_lexer": "ipython3",
   "version": "3.11.5"
  },
  "orig_nbformat": 4
 },
 "nbformat": 4,
 "nbformat_minor": 2
}
