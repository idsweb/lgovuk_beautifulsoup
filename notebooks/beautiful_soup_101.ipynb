{
 "cells": [
  {
   "cell_type": "markdown",
   "metadata": {},
   "source": [
    "# Beautiful Soup 101\n",
    "This notebook gets you familiar with some of the basic concepts of beautiful soup and its main classes and methods. This notebook uses a simple sample structure stored as a string."
   ]
  },
  {
   "cell_type": "code",
   "execution_count": 2,
   "metadata": {},
   "outputs": [],
   "source": [
    "soup_html = '''\n",
    "<!DOCTYPE html>\n",
    "<html lang=\"en\">\n",
    "<head>\n",
    "    <meta charset=\"UTF-8\">\n",
    "    <meta name=\"viewport\" content=\"width=device-width, initial-scale=1.0\">\n",
    "    <title>Document</title>\n",
    "</head>\n",
    "<body>\n",
    "    <h1>This is the title</h1>\n",
    "    <h2>This is a sub title</h2>\n",
    "    <div class=\"outer\">\n",
    "        <div class=\"inner extraclass\">\n",
    "            <h2>This is a sub heading</h2>\n",
    "            This is some text inside a string\n",
    "            <ul>\n",
    "                <li>list item one</li>\n",
    "                <li>list item two</li>\n",
    "                <li>list item three <a href=\"linkhref\">a link in a list</a></li>\n",
    "                <li>list item four</li>\n",
    "                <li>list item 5</li>\n",
    "            </ul>\n",
    "        </div>\n",
    "    </div>\n",
    "    <h2>This is another sub title</h2>\n",
    "    <p class=\"pclass\">\n",
    "        This is a paragraph\n",
    "        <span><b>Bold text in front of</b>plain text</span>\n",
    "        <br />\n",
    "        <br />\n",
    "        <br />\n",
    "        <br />\n",
    "        <img src=\"images/someimgage.jpg\" alt=\"someimgage\"></img>\n",
    "        <a href=\"somehyperlink\">some content</a>\n",
    "    </p>\n",
    "    <div class=\"bottomdiv\">\n",
    "        <h2>This is another sub heading</h2>\n",
    "        this is at the bottomdi\n",
    "    </div>\n",
    "    <footer>\n",
    "        some footer\n",
    "    </footer>\n",
    "</body>\n",
    "</html>\n",
    "'''"
   ]
  },
  {
   "cell_type": "markdown",
   "metadata": {},
   "source": [
    "## Setup the notebook\n",
    "First we need to install the relevant libraries (I am using pipenv but you can use !pip if running in colab or similiar). We need beautiful soup and the parser(s)"
   ]
  },
  {
   "cell_type": "code",
   "execution_count": 3,
   "metadata": {},
   "outputs": [],
   "source": [
    "#!pip install beautifulsoup4\n",
    "\n",
    "# Install the parsers\n",
    "#!pip install html5lib\n",
    "#!pip install lxml"
   ]
  },
  {
   "cell_type": "markdown",
   "metadata": {},
   "source": [
    "## Create the beautiful soup object"
   ]
  },
  {
   "cell_type": "code",
   "execution_count": 4,
   "metadata": {},
   "outputs": [],
   "source": [
    "from bs4 import BeautifulSoup\n",
    "\n",
    "soup = BeautifulSoup(soup_html, 'html.parser')"
   ]
  },
  {
   "cell_type": "markdown",
   "metadata": {},
   "source": [
    "## Basic navigation"
   ]
  },
  {
   "cell_type": "markdown",
   "metadata": {},
   "source": [
    "### Navigating by object using the .tag syntax\n",
    "The simplest way to navigate is if you know the structure (if only right?). Lets find the title using dot syntax:"
   ]
  },
  {
   "cell_type": "code",
   "execution_count": 5,
   "metadata": {},
   "outputs": [
    {
     "name": "stdout",
     "output_type": "stream",
     "text": [
      "<h1>This is the title</h1>\n"
     ]
    }
   ],
   "source": [
    "print(soup.h1)"
   ]
  },
  {
   "cell_type": "code",
   "execution_count": 6,
   "metadata": {},
   "outputs": [
    {
     "name": "stdout",
     "output_type": "stream",
     "text": [
      "<div class=\"outer\">\n",
      "<div class=\"inner extraclass\">\n",
      "<h2>This is a sub heading</h2>\n",
      "            This is some text inside a string\n",
      "            <ul>\n",
      "<li>list item one</li>\n",
      "<li>list item two</li>\n",
      "<li>list item three <a href=\"linkhref\">a link in a list</a></li>\n",
      "<li>list item four</li>\n",
      "<li>list item 5</li>\n",
      "</ul>\n",
      "</div>\n",
      "</div>\n"
     ]
    }
   ],
   "source": [
    "print(soup.div)"
   ]
  },
  {
   "cell_type": "markdown",
   "metadata": {},
   "source": [
    "If we look at this we see two divs. However there were two top level divs in our html - one had a nested div. Beautiful soup has a `prettify()` method. If we format this with prettify() we see bs4 has found the firt __branch__ of the tree that is a div tag."
   ]
  },
  {
   "cell_type": "code",
   "execution_count": 7,
   "metadata": {},
   "outputs": [
    {
     "name": "stdout",
     "output_type": "stream",
     "text": [
      "<div class=\"outer\">\n",
      " <div class=\"inner extraclass\">\n",
      "  <h2>\n",
      "   This is a sub heading\n",
      "  </h2>\n",
      "  This is some text inside a string\n",
      "  <ul>\n",
      "   <li>\n",
      "    list item one\n",
      "   </li>\n",
      "   <li>\n",
      "    list item two\n",
      "   </li>\n",
      "   <li>\n",
      "    list item three\n",
      "    <a href=\"linkhref\">\n",
      "     a link in a list\n",
      "    </a>\n",
      "   </li>\n",
      "   <li>\n",
      "    list item four\n",
      "   </li>\n",
      "   <li>\n",
      "    list item 5\n",
      "   </li>\n",
      "  </ul>\n",
      " </div>\n",
      "</div>\n",
      "\n"
     ]
    }
   ],
   "source": [
    "print(soup.div.prettify())"
   ]
  },
  {
   "cell_type": "markdown",
   "metadata": {},
   "source": [
    "If we look at the type of the `soup.div` it is a `bs4.element.tag`. It is important to note that __the tag is the whole branch starting at that tag not just the tag itself__."
   ]
  },
  {
   "cell_type": "code",
   "execution_count": 8,
   "metadata": {},
   "outputs": [
    {
     "name": "stdout",
     "output_type": "stream",
     "text": [
      "<class 'bs4.element.Tag'>\n"
     ]
    }
   ],
   "source": [
    "print(type(soup.div))"
   ]
  },
  {
   "cell_type": "markdown",
   "metadata": {},
   "source": [
    "For known or single obects we can find them anywhere in the tree by tag. Also if we look for the nested div using `div.div` we get the next 'branch' of the tree. "
   ]
  },
  {
   "cell_type": "code",
   "execution_count": 9,
   "metadata": {},
   "outputs": [
    {
     "name": "stdout",
     "output_type": "stream",
     "text": [
      "<div class=\"inner extraclass\">\n",
      " <h2>\n",
      "  This is a sub heading\n",
      " </h2>\n",
      " This is some text inside a string\n",
      " <ul>\n",
      "  <li>\n",
      "   list item one\n",
      "  </li>\n",
      "  <li>\n",
      "   list item two\n",
      "  </li>\n",
      "  <li>\n",
      "   list item three\n",
      "   <a href=\"linkhref\">\n",
      "    a link in a list\n",
      "   </a>\n",
      "  </li>\n",
      "  <li>\n",
      "   list item four\n",
      "  </li>\n",
      "  <li>\n",
      "   list item 5\n",
      "  </li>\n",
      " </ul>\n",
      "</div>\n",
      "\n"
     ]
    }
   ],
   "source": [
    "print(soup.div.div.prettify())"
   ]
  },
  {
   "cell_type": "markdown",
   "metadata": {},
   "source": [
    "You can use this approach with any tag that exists."
   ]
  },
  {
   "cell_type": "code",
   "execution_count": 10,
   "metadata": {},
   "outputs": [
    {
     "name": "stdout",
     "output_type": "stream",
     "text": [
      "<ul>\n",
      " <li>\n",
      "  list item one\n",
      " </li>\n",
      " <li>\n",
      "  list item two\n",
      " </li>\n",
      " <li>\n",
      "  list item three\n",
      "  <a href=\"linkhref\">\n",
      "   a link in a list\n",
      "  </a>\n",
      " </li>\n",
      " <li>\n",
      "  list item four\n",
      " </li>\n",
      " <li>\n",
      "  list item 5\n",
      " </li>\n",
      "</ul>\n",
      "\n"
     ]
    }
   ],
   "source": [
    "print(soup.ul.prettify())"
   ]
  },
  {
   "cell_type": "markdown",
   "metadata": {},
   "source": [
    "If we want to find the next element but we don't know what tag it is then we need to navigate."
   ]
  },
  {
   "cell_type": "markdown",
   "metadata": {},
   "source": [
    "## Navigating up and down"
   ]
  },
  {
   "cell_type": "markdown",
   "metadata": {},
   "source": [
    "If we take the following structure\n",
    "```\n",
    "html\n",
    "head\n",
    "body\n",
    "h1\n",
    "h2\n",
    "div \n",
    "    div\n",
    "        h2\n",
    "            ul\n",
    "                li\n",
    "                li\n",
    "                li\n",
    "                    a\n",
    "                li\n",
    "                li\n",
    "h2\n",
    "p\n",
    "    span\n",
    "        b\n",
    "    br\n",
    "    br\n",
    "    br\n",
    "    br\n",
    "    i\n",
    "    a\n",
    "div\n",
    "h2\n",
    "footer\n",
    "```\n",
    "Then `soup.div.div.a` would be the hyperlink"
   ]
  },
  {
   "cell_type": "code",
   "execution_count": 11,
   "metadata": {},
   "outputs": [
    {
     "name": "stdout",
     "output_type": "stream",
     "text": [
      "<a href=\"linkhref\">\n",
      " a link in a list\n",
      "</a>\n",
      "\n"
     ]
    }
   ],
   "source": [
    "print(soup.div.div.a.prettify())"
   ]
  },
  {
   "cell_type": "markdown",
   "metadata": {},
   "source": [
    "Similarly there are two divs, one is at `soup.div` the other is at `soup.div.div`, `soup.div.div` does not find the second div which is an immediate child of body. Effectively .tagname is a shortcut to the `find()` method of a tag object (explained later)."
   ]
  },
  {
   "cell_type": "code",
   "execution_count": 12,
   "metadata": {},
   "outputs": [
    {
     "name": "stdout",
     "output_type": "stream",
     "text": [
      "body\n",
      "None\n",
      "<class 'bs4.element.Tag'>\n"
     ]
    }
   ],
   "source": [
    "# Find the parent of the h2 - the first h2 is under body\n",
    "print(soup.h2.parent.name)\n",
    "\n",
    "# this will say none as the h2 has no siblings\n",
    "print(soup.div.div.find_next_sibling())\n",
    "\n",
    "# find the type first sibling of the first div\n",
    "print(type(soup.div))"
   ]
  },
  {
   "cell_type": "markdown",
   "metadata": {},
   "source": [
    "### Children that are Navigeable strings\n",
    "The children of tags can be text. Beautiful Soup has `NavigeableStrings` to represent these. Be aware the carriage returns are treated as NavigeableStrings."
   ]
  },
  {
   "cell_type": "code",
   "execution_count": 13,
   "metadata": {},
   "outputs": [
    {
     "name": "stdout",
     "output_type": "stream",
     "text": [
      "<class 'bs4.element.NavigableString'>\n"
     ]
    }
   ],
   "source": [
    "# First child of the nested div is actually text\n",
    "print(type(soup.div.div.next_sibling))"
   ]
  },
  {
   "cell_type": "markdown",
   "metadata": {},
   "source": [
    "With formatted HTML you can get unexpected results, as the first child can be a string which is a carriage return."
   ]
  },
  {
   "cell_type": "code",
   "execution_count": 14,
   "metadata": {},
   "outputs": [
    {
     "name": "stdout",
     "output_type": "stream",
     "text": [
      "next sibling is an empty string True\n"
     ]
    }
   ],
   "source": [
    "# The next sibling of the div inside the first div is of type navigable string.\n",
    "print('next sibling is an empty string', soup.div.div.nextSibling.text == '\\n' or soup.div.div.next_sibling == '')"
   ]
  },
  {
   "cell_type": "markdown",
   "metadata": {},
   "source": [
    "If we look at the parent we can see its next sibling is an empty string."
   ]
  },
  {
   "cell_type": "code",
   "execution_count": 15,
   "metadata": {},
   "outputs": [
    {
     "name": "stdout",
     "output_type": "stream",
     "text": [
      "next sibling is an empty string True\n"
     ]
    }
   ],
   "source": [
    "print('next sibling is an empty string', soup.div.div.parent.nextSibling.text == '\\n' or soup.div.div.parent.next_sibling == '')"
   ]
  },
  {
   "cell_type": "code",
   "execution_count": 16,
   "metadata": {},
   "outputs": [
    {
     "data": {
      "text/plain": [
       "'\\n'"
      ]
     },
     "execution_count": 16,
     "metadata": {},
     "output_type": "execute_result"
    }
   ],
   "source": [
    "# Notice this next statement returns a carriage return NOT the H2. In other words the text looks like this <div>\\n\\t<div>\n",
    "soup.div.div.parent.next_sibling"
   ]
  },
  {
   "cell_type": "markdown",
   "metadata": {},
   "source": [
    "You can iterate over siblings"
   ]
  },
  {
   "cell_type": "code",
   "execution_count": 17,
   "metadata": {},
   "outputs": [
    {
     "name": "stdout",
     "output_type": "stream",
     "text": [
      "---------\n",
      "None type: <class 'bs4.element.NavigableString'>\n",
      "---------\n",
      "h2 type: <class 'bs4.element.Tag'>\n",
      "---------\n",
      "None type: <class 'bs4.element.NavigableString'>\n",
      "---------\n",
      "p type: <class 'bs4.element.Tag'>\n",
      "---------\n",
      "None type: <class 'bs4.element.NavigableString'>\n",
      "---------\n",
      "div type: <class 'bs4.element.Tag'>\n",
      "---------\n",
      "None type: <class 'bs4.element.NavigableString'>\n",
      "---------\n",
      "footer type: <class 'bs4.element.Tag'>\n",
      "---------\n",
      "None type: <class 'bs4.element.NavigableString'>\n"
     ]
    }
   ],
   "source": [
    "for sib in soup.div.next_siblings :\n",
    "    print('---------')\n",
    "    print(sib.name, 'type:', type(sib))"
   ]
  },
  {
   "cell_type": "markdown",
   "metadata": {},
   "source": [
    "So the siblings of the first div tag looks something like this:\n",
    "\\n<h2>This is another sub title</h2>\\n<p class=\"pclass\"></p>\\n<div class=\"bottomdiv\"></div>\\n<footer></footer>"
   ]
  },
  {
   "cell_type": "code",
   "execution_count": 18,
   "metadata": {},
   "outputs": [
    {
     "name": "stdout",
     "output_type": "stream",
     "text": [
      "<!DOCTYPE html>\n",
      "<html lang=\"en\">\n",
      " <head>\n",
      "  <meta charset=\"utf-8\"/>\n",
      "  <meta content=\"width=device-width, initial-scale=1.0\" name=\"viewport\"/>\n",
      "  <title>\n",
      "   Document\n",
      "  </title>\n",
      " </head>\n",
      " <body>\n",
      "  <h1>\n",
      "   This is the title\n",
      "  </h1>\n",
      "  <h2>\n",
      "   This is a sub title\n",
      "  </h2>\n",
      "  <div class=\"inner extraclass\">\n",
      "   <h2>\n",
      "    This is a sub heading\n",
      "   </h2>\n",
      "   This is some text inside a string\n",
      "   <ul>\n",
      "    <li>\n",
      "     list item one\n",
      "    </li>\n",
      "    <li>\n",
      "     list item two\n",
      "    </li>\n",
      "    <li>\n",
      "     list item three\n",
      "     <a href=\"linkhref\">\n",
      "      a link in a list\n",
      "     </a>\n",
      "    </li>\n",
      "    <li>\n",
      "     list item four\n",
      "    </li>\n",
      "    <li>\n",
      "     list item 5\n",
      "    </li>\n",
      "   </ul>\n",
      "  </div>\n",
      "  <h2>\n",
      "   This is another sub title\n",
      "  </h2>\n",
      "  <p class=\"pclass\">\n",
      "   This is a paragraph\n",
      "   <span>\n",
      "    <b>\n",
      "     Bold text in front of\n",
      "    </b>\n",
      "    plain text\n",
      "   </span>\n",
      "   <br/>\n",
      "   <br/>\n",
      "   <br/>\n",
      "   <br/>\n",
      "   <img alt=\"someimgage\" src=\"images/someimgage.jpg\"/>\n",
      "   <a href=\"somehyperlink\">\n",
      "    some content\n",
      "   </a>\n",
      "  </p>\n",
      "  <div class=\"bottomdiv\">\n",
      "   <h2>\n",
      "    This is another sub heading\n",
      "   </h2>\n",
      "   this is at the bottomdi\n",
      "  </div>\n",
      "  <footer>\n",
      "   some footer\n",
      "  </footer>\n",
      " </body>\n",
      "</html>\n",
      "\n"
     ]
    }
   ],
   "source": [
    "new_contents = []\n",
    "for c in soup.div.contents :\n",
    "    if( not c == \"\\n\") :\n",
    "        new_contents.append(c)\n",
    "\n",
    "soup.div.unwrap()\n",
    "print(soup.prettify())"
   ]
  },
  {
   "cell_type": "markdown",
   "metadata": {},
   "source": [
    "## Dealing with recursion"
   ]
  },
  {
   "cell_type": "markdown",
   "metadata": {},
   "source": [
    "## Dealing with attributes\n",
    "\n",
    "Attributes are a `Dictionary` of `list` called `.attrs`. If we look at the first div\n",
    "\n",
    "```html\n",
    "    <div class=\"outer\">\n",
    "        <div class=\"inner extraclass\">\n",
    "            <h2>This is a sub heading</h2>\n",
    "            This is some text inside a string\n",
    "            <ul>\n",
    "                <li>list item one</li>\n",
    "                <li>list item two</li>\n",
    "                <li>list item three <a href=\"linkhref\">a link in a list</a></li>\n",
    "                <li>list item four</li>\n",
    "                <li>list item 5</li>\n",
    "            </ul>\n",
    "        </div>\n",
    "    </div>\n",
    "```"
   ]
  },
  {
   "cell_type": "code",
   "execution_count": null,
   "metadata": {},
   "outputs": [],
   "source": [
    "print('The divs attrs type is', type(soup.div.attrs))\n",
    "# <class dict>"
   ]
  },
  {
   "cell_type": "code",
   "execution_count": null,
   "metadata": {},
   "outputs": [],
   "source": [
    "print('attr len is', len(soup.div.attrs))\n",
    "# 1"
   ]
  },
  {
   "cell_type": "code",
   "execution_count": null,
   "metadata": {},
   "outputs": [],
   "source": [
    "\n",
    "# You cant use an index as it is a dictionary\n",
    "# print(soup.div.attrs[0])"
   ]
  },
  {
   "cell_type": "code",
   "execution_count": null,
   "metadata": {},
   "outputs": [],
   "source": [
    "\n",
    "print('class attr type is', type(soup.div.attrs['class']))\n",
    "# <class list>"
   ]
  },
  {
   "cell_type": "code",
   "execution_count": null,
   "metadata": {},
   "outputs": [],
   "source": [
    "\n",
    "print('length of the class attr is', len(soup.find('div').attrs['class']))\n",
    "# Notice that gives 2 as bs4 doesn't class the two selectors as one"
   ]
  },
  {
   "cell_type": "code",
   "execution_count": null,
   "metadata": {},
   "outputs": [],
   "source": [
    "# This goes boom\n",
    "# print(soup.div.attrs['foo'])"
   ]
  },
  {
   "cell_type": "markdown",
   "metadata": {},
   "source": [
    "Other variations\n",
    "\n",
    "See [This Stack article](https://stackoverflow.com/questions/5015483/test-if-an-attribute-is-present-in-a-tag-in-beautifulsoup) for lots more suggestions"
   ]
  },
  {
   "cell_type": "code",
   "execution_count": 64,
   "metadata": {},
   "outputs": [
    {
     "data": {
      "text/plain": [
       "[<p class=\"pclass\">\n",
       "         This is a paragraph\n",
       "         <span><b>Bold text in front of</b>plain text</span>\n",
       " <br/>\n",
       " <br/>\n",
       " <br/>\n",
       " <br/>\n",
       " <img alt=\"someimgage\" src=\"images/someimgage.jpg\"/>\n",
       " <a href=\"somehyperlink\">some content</a>\n",
       " </p>]"
      ]
     },
     "execution_count": 64,
     "metadata": {},
     "output_type": "execute_result"
    }
   ],
   "source": [
    "soup.select(\"[class=pclass]\")"
   ]
  },
  {
   "cell_type": "code",
   "execution_count": 67,
   "metadata": {},
   "outputs": [
    {
     "name": "stdout",
     "output_type": "stream",
     "text": [
      "-------\n",
      "<div class=\"inner extraclass\">\n",
      "<h2>This is a sub heading</h2>\n",
      "            This is some text inside a string\n",
      "            <ul>\n",
      "<li>list item one</li>\n",
      "<li>list item two</li>\n",
      "<li>list item three <a href=\"linkhref\">a link in a list</a></li>\n",
      "<li>list item four</li>\n",
      "<li>list item 5</li>\n",
      "</ul>\n",
      "</div>\n",
      "-------\n",
      "<p class=\"pclass\">\n",
      "        This is a paragraph\n",
      "        <span><b>Bold text in front of</b>plain text</span>\n",
      "<br/>\n",
      "<br/>\n",
      "<br/>\n",
      "<br/>\n",
      "<img alt=\"someimgage\" src=\"images/someimgage.jpg\"/>\n",
      "<a href=\"somehyperlink\">some content</a>\n",
      "</p>\n",
      "-------\n",
      "<div class=\"bottomdiv\">\n",
      "<h2>This is another sub heading</h2>\n",
      "        this is at the bottomdi\n",
      "    </div>\n"
     ]
    }
   ],
   "source": [
    "for pea in soup.select(\"[class]\") :\n",
    "    print('-------')\n",
    "    print(pea) #do something useful like strip the CSS."
   ]
  }
 ],
 "metadata": {
  "kernelspec": {
   "display_name": "lgovuk_beautifulsoup-EAF_NptC",
   "language": "python",
   "name": "python3"
  },
  "language_info": {
   "codemirror_mode": {
    "name": "ipython",
    "version": 3
   },
   "file_extension": ".py",
   "mimetype": "text/x-python",
   "name": "python",
   "nbconvert_exporter": "python",
   "pygments_lexer": "ipython3",
   "version": "3.11.5"
  }
 },
 "nbformat": 4,
 "nbformat_minor": 2
}
