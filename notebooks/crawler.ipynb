{
 "cells": [
  {
   "cell_type": "markdown",
   "metadata": {},
   "source": [
    "# Load web content from a url for clean up\n",
    "\n",
    "This notebook takes a starting URL which is a section page, looks for the summmary links and then crawls that content."
   ]
  },
  {
   "cell_type": "code",
   "execution_count": 1,
   "metadata": {},
   "outputs": [],
   "source": [
    "# import necessary libraries \n",
    "from bs4 import BeautifulSoup\n",
    "import requests\n",
    "import re \n",
    "from pathlib import Path"
   ]
  },
  {
   "cell_type": "markdown",
   "metadata": {},
   "source": [
    "## Function to load the start page"
   ]
  },
  {
   "cell_type": "code",
   "execution_count": 2,
   "metadata": {},
   "outputs": [],
   "source": [
    "def get_soup_from_url(url: str) :\n",
    "    response = requests.get(url) \n",
    "    html = response.text \n",
    "    soup = BeautifulSoup(html, 'html.parser')\n",
    "    print(soup.h1.text)\n",
    "    return soup"
   ]
  },
  {
   "cell_type": "markdown",
   "metadata": {},
   "source": [
    "## Function to get the summary links web part"
   ]
  },
  {
   "cell_type": "code",
   "execution_count": 3,
   "metadata": {},
   "outputs": [],
   "source": [
    "def get_summary_links(soup: BeautifulSoup) :\n",
    "    # Get the outer DIV tag\n",
    "    summary_links_container = soup.find_all('div', class_ = 'slm-layout-main groupmarker')\n",
    "    # Find each of the unordered lists\n",
    "    summary_links = summary_links_container[0].find_all('ul', class_ = 'list list-nav')\n",
    "    return summary_links"
   ]
  },
  {
   "cell_type": "markdown",
   "metadata": {},
   "source": [
    "## Process all the content\n",
    "Look for section pages but for now skip them (set by the flag)."
   ]
  },
  {
   "cell_type": "code",
   "execution_count": 4,
   "metadata": {},
   "outputs": [],
   "source": [
    "# Set up the root section\n",
    "url_root = 'https://www.leeds.gov.uk/antisocial-behaviour-and-crime'\n",
    "# Don't follow second level sections\n",
    "follow_section = False"
   ]
  },
  {
   "cell_type": "markdown",
   "metadata": {},
   "source": [
    "### Function to write scraped HTML to file"
   ]
  },
  {
   "cell_type": "code",
   "execution_count": 14,
   "metadata": {},
   "outputs": [],
   "source": [
    "def save_content(soup : BeautifulSoup,  html_source_route_dir : Path, web_page_path: str) :\n",
    "    try :\n",
    "        # swap the slashes and add the extension\n",
    "        parsed_url = web_page_path.replace('/',\"\\\\\") + '.html'\n",
    "\n",
    "        # create a Path object\n",
    "        full_path = Path(html_source_route_dir.resolve()) / parsed_url\n",
    "\n",
    "        # create the files parents if they dont exist\n",
    "        full_path.parent.mkdir(parents=True,exist_ok=True)\n",
    "\n",
    "        # save the file\n",
    "        if not full_path.exists() :\n",
    "            full_path.write_text(soup.prettify(), encoding='utf-8')\n",
    "        \n",
    "    except Exception as ex: \n",
    "        print(f'something went wrong loading file {full_path}', ex)\n",
    "        print('--------------')\n"
   ]
  },
  {
   "cell_type": "code",
   "execution_count": null,
   "metadata": {},
   "outputs": [],
   "source": [
    "# relative folder to save html source code.\n",
    "html_source_root_dir = Path(Path().parent.resolve()) / '..' / 'test'\n",
    "wpp = '/antisocial-behaviour-and-crime/making-a-noise-complaint'\n",
    "\n",
    "save_content(html_source_root_dir, wpp.replace('/','',1))"
   ]
  },
  {
   "cell_type": "markdown",
   "metadata": {},
   "source": [
    "### Process the summary links list"
   ]
  },
  {
   "cell_type": "code",
   "execution_count": null,
   "metadata": {},
   "outputs": [],
   "source": [
    "# Get the summary links from the landing page\n",
    "soup = get_soup_from_url(url_root)\n",
    "summary_links = get_summary_links(soup)\n",
    "\n",
    "# relative folder to save html source code.\n",
    "html_source_root_dir = Path(Path().parent.resolve()) / '..' / 'test'\n",
    "\n",
    "# print(html_source_root_dir.resolve())\n",
    "\n",
    "# For each unordered list\n",
    "for list_of_links in summary_links :\n",
    "    \n",
    "    # print('Gathering content')\n",
    "    # print('---------------------------')\n",
    "\n",
    "    for a in list_of_links .find_all('a') :\n",
    "        # get the a href from the summary links\n",
    "        link = a.attrs['href']\n",
    "\n",
    "        # scrape the content\n",
    "        full_url = 'https://www.leeds.gov.uk' + link\n",
    "        new_soup = get_soup_from_url(full_url)\n",
    "\n",
    "        # process the summary pages differently\n",
    "        is_summary = (len(new_soup.find_all('div', class_ = 'slm-layout-main groupmarker')) > 0)\n",
    "\n",
    "        # use the link text as the basis of the folder structure\n",
    "        fpath = link\n",
    "\n",
    "        # if the link is relative then strip off the forward slash or Path will resolve to root (c:)\n",
    "        if(link[0] == '/') :\n",
    "            fpath = link.replace('/','',1)\n",
    "\n",
    "        if is_summary :\n",
    "            if follow_section :\n",
    "                print('section - doing nothing for now')\n",
    "            else :\n",
    "                print('Not processing sections - skipping')\n",
    "        else : \n",
    "            save_content(new_soup, html_source_root_dir, fpath)\n"
   ]
  }
 ],
 "metadata": {
  "kernelspec": {
   "display_name": "Python 3",
   "language": "python",
   "name": "python3"
  },
  "language_info": {
   "codemirror_mode": {
    "name": "ipython",
    "version": 3
   },
   "file_extension": ".py",
   "mimetype": "text/x-python",
   "name": "python",
   "nbconvert_exporter": "python",
   "pygments_lexer": "ipython3",
   "version": "3.11.5"
  },
  "orig_nbformat": 4
 },
 "nbformat": 4,
 "nbformat_minor": 2
}
