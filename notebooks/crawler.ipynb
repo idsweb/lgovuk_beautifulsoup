{
 "cells": [
  {
   "cell_type": "markdown",
   "metadata": {},
   "source": [
    "# Load web content from a url for clean up\n",
    "\n",
    "This notebook takes a starting URL which is a section page, looks for the summmary links and then crawls that content."
   ]
  },
  {
   "cell_type": "code",
   "execution_count": 1,
   "metadata": {},
   "outputs": [],
   "source": [
    "# import necessary libraries \n",
    "from bs4 import BeautifulSoup\n",
    "import requests\n",
    "import re \n",
    "import os\n",
    "from os import path"
   ]
  },
  {
   "cell_type": "markdown",
   "metadata": {},
   "source": [
    "## Function to load the start page"
   ]
  },
  {
   "cell_type": "code",
   "execution_count": 2,
   "metadata": {},
   "outputs": [],
   "source": [
    "def get_soup_from_url(url: str) :\n",
    "    response = requests.get(url) \n",
    "    html = response.text \n",
    "    soup = BeautifulSoup(html, 'html.parser')\n",
    "    print(soup.h1.text)\n",
    "    return soup"
   ]
  },
  {
   "cell_type": "markdown",
   "metadata": {},
   "source": [
    "## Function to get the summary links web part"
   ]
  },
  {
   "cell_type": "code",
   "execution_count": 3,
   "metadata": {},
   "outputs": [],
   "source": [
    "def get_summary_links(soup: BeautifulSoup) :\n",
    "    # Get the outer DIV tag\n",
    "    summary_links_container = soup.find_all('div', class_ = 'slm-layout-main groupmarker')\n",
    "    # Find each of the unordered lists\n",
    "    summary_links = summary_links_container[0].find_all('ul', class_ = 'list list-nav')\n",
    "    return summary_links"
   ]
  },
  {
   "cell_type": "markdown",
   "metadata": {},
   "source": [
    "## Process all the content\n",
    "Look for section pages but for now skip them (set by the flag)."
   ]
  },
  {
   "cell_type": "code",
   "execution_count": 4,
   "metadata": {},
   "outputs": [],
   "source": [
    "# Set up the root section\n",
    "url_root = 'https://www.leeds.gov.uk/antisocial-behaviour-and-crime'\n",
    "# Don't follow second level sections\n",
    "follow_section = False"
   ]
  },
  {
   "cell_type": "code",
   "execution_count": 5,
   "metadata": {},
   "outputs": [],
   "source": [
    "def save_content(output_dir: str, href: str, url: str) :\n",
    "    response = requests.get(url) \n",
    "    html = response.text \n",
    "\n",
    "    flist = href.split('/')\n",
    "    filename = flist[len(flist)-1]\n",
    "\n",
    "    destination = path.join('..', output_dir, filename + '.html')\n",
    "    print(destination)\n",
    "    with open(destination, \"w\", encoding='utf-8') as file:\n",
    "        file.write(html)"
   ]
  },
  {
   "cell_type": "code",
   "execution_count": null,
   "metadata": {},
   "outputs": [],
   "source": [
    "# Get the summary links\n",
    "soup = get_soup_from_url(url_root)\n",
    "summary_links = get_summary_links(soup)\n",
    "\n",
    "# For each unordered list\n",
    "for list_of_links in summary_links :\n",
    "    \n",
    "    print('Gathering content')\n",
    "    print('---------------------------')\n",
    "\n",
    "    for a in list_of_links .find_all('a') :\n",
    "        # path.join('https://', link)\n",
    "        link = a.attrs['href']\n",
    "        full_url = 'https://www.leeds.gov.uk' + link\n",
    "\n",
    "        new_soup = get_soup_from_url(full_url)\n",
    "        is_summary = (len(new_soup.find_all('div', class_ = 'slm-layout-main groupmarker')) > 0)\n",
    "        if is_summary :\n",
    "            if follow_section :\n",
    "                print('section - doing nothing for now')\n",
    "            else :\n",
    "                print('Not processing sections - skipping')\n",
    "        else : \n",
    "            save_content('test', link, full_url)\n"
   ]
  }
 ],
 "metadata": {
  "kernelspec": {
   "display_name": "Python 3",
   "language": "python",
   "name": "python3"
  },
  "language_info": {
   "codemirror_mode": {
    "name": "ipython",
    "version": 3
   },
   "file_extension": ".py",
   "mimetype": "text/x-python",
   "name": "python",
   "nbconvert_exporter": "python",
   "pygments_lexer": "ipython3",
   "version": "3.11.5"
  },
  "orig_nbformat": 4
 },
 "nbformat": 4,
 "nbformat_minor": 2
}
